{
  "nbformat": 4,
  "nbformat_minor": 0,
  "metadata": {
    "colab": {
      "provenance": []
    },
    "kernelspec": {
      "name": "python3",
      "display_name": "Python 3"
    },
    "language_info": {
      "name": "python"
    }
  },
  "cells": [
    {
      "cell_type": "code",
      "execution_count": 462,
      "metadata": {
        "id": "ee3bde81"
      },
      "outputs": [],
      "source": [
        "import numpy as np\n",
        "import pandas as pd\n",
        "import matplotlib.pyplot as plt\n",
        "# import datetime\n",
        "# pd.set_option('display.max_rows', 100)\n",
        "pd.set_option('display.max_columns', None)"
      ]
    },
    {
      "cell_type": "code",
      "execution_count": 463,
      "metadata": {
        "id": "e8bDl9jUm8re",
        "colab": {
          "base_uri": "https://localhost:8080/"
        },
        "outputId": "f58c21a2-b19a-4159-ef24-3296e65b5542"
      },
      "outputs": [
        {
          "output_type": "stream",
          "name": "stdout",
          "text": [
            "Drive already mounted at /content/drive; to attempt to forcibly remount, call drive.mount(\"/content/drive\", force_remount=True).\n"
          ]
        }
      ],
      "source": [
        "from google.colab import drive\n",
        "drive.mount('/content/drive')"
      ]
    },
    {
      "cell_type": "code",
      "execution_count": 464,
      "metadata": {
        "id": "a6s2NMFbMhyn"
      },
      "outputs": [],
      "source": [
        "import glob\n",
        "\n",
        "def allfilesinpath(path):\n",
        "    \"\"\"\n",
        "    Get all files in a directory specified by the path.\n",
        "\n",
        "    Args:\n",
        "        path (str): The path of the directory.\n",
        "\n",
        "    Returns:\n",
        "        A list of all files in the directory.\n",
        "    \"\"\"\n",
        "    # Create a list of all files in the specified path\n",
        "    all_files = glob.glob(path + \"/*\")\n",
        "  \n",
        "    return all_files\n"
      ]
    },
    {
      "cell_type": "code",
      "execution_count": 465,
      "metadata": {
        "id": "mNfkMGJDPEZ5",
        "colab": {
          "base_uri": "https://localhost:8080/"
        },
        "outputId": "9913b2df-23d3-4b0f-c18f-417e32f1857f"
      },
      "outputs": [
        {
          "output_type": "execute_result",
          "data": {
            "text/plain": [
              "['/content/drive/MyDrive/Financial Derivatives/Basix Case/BASIX_questions.pdf',\n",
              " '/content/drive/MyDrive/Financial Derivatives/Basix Case/Exhibit6_data.xlsx']"
            ]
          },
          "metadata": {},
          "execution_count": 465
        }
      ],
      "source": [
        "path = '/content/drive/MyDrive/Financial Derivatives/Basix Case'\n",
        "all_files_list = allfilesinpath(path)\n",
        "all_files_list"
      ]
    },
    {
      "cell_type": "code",
      "execution_count": 466,
      "metadata": {
        "id": "Sq83VscEyPL4"
      },
      "outputs": [],
      "source": [
        "# Function to read a csv file\n",
        "def read_excel_file(file_path):\n",
        "    try:\n",
        "        # use pandas to read the Excel file at the given path\n",
        "        df = pd.read_excel(file_path)\n",
        "        return df\n",
        "    except FileNotFoundError:\n",
        "        print(f\"File not found at path: {file_path}\")\n"
      ]
    },
    {
      "cell_type": "code",
      "source": [
        "file_path = '/content/drive/MyDrive/Financial Derivatives/Basix Case/Exhibit6_data.xlsx'\n",
        "df = read_excel_file(file_path)"
      ],
      "metadata": {
        "id": "TEQYqG-vMJvK"
      },
      "execution_count": 467,
      "outputs": []
    },
    {
      "cell_type": "code",
      "source": [
        "df"
      ],
      "metadata": {
        "id": "V6_-Aq47MXsL",
        "colab": {
          "base_uri": "https://localhost:8080/",
          "height": 993
        },
        "outputId": "57bde286-db41-4745-a493-dc107bfff83f"
      },
      "execution_count": 468,
      "outputs": [
        {
          "output_type": "execute_result",
          "data": {
            "text/plain": [
              "    Year   Phase 1  Phase 2  Phase 3\n",
              "0    1970    108.0    430.0    201.0\n",
              "1    1971     60.0    273.0    182.0\n",
              "2    1972    256.0     88.0    121.0\n",
              "3    1973    166.0    360.0    145.0\n",
              "4    1974     79.0    261.0    336.0\n",
              "5    1975    168.0    309.0    322.0\n",
              "6    1976    250.0    520.0    124.0\n",
              "7    1977    200.0    270.0    294.0\n",
              "8    1978     94.0    574.0    403.0\n",
              "9    1979    131.0    183.0    342.0\n",
              "10   1980    100.0    363.0    194.0\n",
              "11   1981    223.0    276.0    322.0\n",
              "12   1982    207.0    196.0     92.0\n",
              "13   1983    149.0    567.0    383.0\n",
              "14   1984    121.0    253.0    253.0\n",
              "15   1985     34.0    131.0    206.0\n",
              "16   1986    108.0    174.0    136.0\n",
              "17   1987    139.0    255.0    143.0\n",
              "18   1988    108.0    382.0    369.0\n",
              "19   1989    178.0    284.0    196.0\n",
              "20   1990    197.0    317.0    382.0\n",
              "21   1991    394.0    261.0     98.0\n",
              "22   1992     41.0      NaN      NaN\n",
              "23   1993     46.0    151.0    304.0\n",
              "24   1994     41.0    129.0     13.0\n",
              "25   1995      NaN      NaN      NaN\n",
              "26   1996     61.0    246.0    108.0\n",
              "27   1997     58.0    183.0    115.0\n",
              "28   1998    224.0    335.0    336.0\n",
              "29   1999     88.0    183.0    168.0\n",
              "30   2000    234.0    202.0    156.0\n",
              "31   2001      NaN      NaN      NaN\n",
              "32   2002      NaN      NaN      NaN\n",
              "33   2003      NaN      NaN      NaN\n",
              "34   2004     31.0     96.0    171.0\n",
              "35   2005    124.0    391.0    220.0\n",
              "36   2006    146.0    135.0    292.0"
            ],
            "text/html": [
              "\n",
              "  <div id=\"df-9b862b60-d4d7-4483-9074-f866264e5a50\">\n",
              "    <div class=\"colab-df-container\">\n",
              "      <div>\n",
              "<style scoped>\n",
              "    .dataframe tbody tr th:only-of-type {\n",
              "        vertical-align: middle;\n",
              "    }\n",
              "\n",
              "    .dataframe tbody tr th {\n",
              "        vertical-align: top;\n",
              "    }\n",
              "\n",
              "    .dataframe thead th {\n",
              "        text-align: right;\n",
              "    }\n",
              "</style>\n",
              "<table border=\"1\" class=\"dataframe\">\n",
              "  <thead>\n",
              "    <tr style=\"text-align: right;\">\n",
              "      <th></th>\n",
              "      <th>Year</th>\n",
              "      <th>Phase 1</th>\n",
              "      <th>Phase 2</th>\n",
              "      <th>Phase 3</th>\n",
              "    </tr>\n",
              "  </thead>\n",
              "  <tbody>\n",
              "    <tr>\n",
              "      <th>0</th>\n",
              "      <td>1970</td>\n",
              "      <td>108.0</td>\n",
              "      <td>430.0</td>\n",
              "      <td>201.0</td>\n",
              "    </tr>\n",
              "    <tr>\n",
              "      <th>1</th>\n",
              "      <td>1971</td>\n",
              "      <td>60.0</td>\n",
              "      <td>273.0</td>\n",
              "      <td>182.0</td>\n",
              "    </tr>\n",
              "    <tr>\n",
              "      <th>2</th>\n",
              "      <td>1972</td>\n",
              "      <td>256.0</td>\n",
              "      <td>88.0</td>\n",
              "      <td>121.0</td>\n",
              "    </tr>\n",
              "    <tr>\n",
              "      <th>3</th>\n",
              "      <td>1973</td>\n",
              "      <td>166.0</td>\n",
              "      <td>360.0</td>\n",
              "      <td>145.0</td>\n",
              "    </tr>\n",
              "    <tr>\n",
              "      <th>4</th>\n",
              "      <td>1974</td>\n",
              "      <td>79.0</td>\n",
              "      <td>261.0</td>\n",
              "      <td>336.0</td>\n",
              "    </tr>\n",
              "    <tr>\n",
              "      <th>5</th>\n",
              "      <td>1975</td>\n",
              "      <td>168.0</td>\n",
              "      <td>309.0</td>\n",
              "      <td>322.0</td>\n",
              "    </tr>\n",
              "    <tr>\n",
              "      <th>6</th>\n",
              "      <td>1976</td>\n",
              "      <td>250.0</td>\n",
              "      <td>520.0</td>\n",
              "      <td>124.0</td>\n",
              "    </tr>\n",
              "    <tr>\n",
              "      <th>7</th>\n",
              "      <td>1977</td>\n",
              "      <td>200.0</td>\n",
              "      <td>270.0</td>\n",
              "      <td>294.0</td>\n",
              "    </tr>\n",
              "    <tr>\n",
              "      <th>8</th>\n",
              "      <td>1978</td>\n",
              "      <td>94.0</td>\n",
              "      <td>574.0</td>\n",
              "      <td>403.0</td>\n",
              "    </tr>\n",
              "    <tr>\n",
              "      <th>9</th>\n",
              "      <td>1979</td>\n",
              "      <td>131.0</td>\n",
              "      <td>183.0</td>\n",
              "      <td>342.0</td>\n",
              "    </tr>\n",
              "    <tr>\n",
              "      <th>10</th>\n",
              "      <td>1980</td>\n",
              "      <td>100.0</td>\n",
              "      <td>363.0</td>\n",
              "      <td>194.0</td>\n",
              "    </tr>\n",
              "    <tr>\n",
              "      <th>11</th>\n",
              "      <td>1981</td>\n",
              "      <td>223.0</td>\n",
              "      <td>276.0</td>\n",
              "      <td>322.0</td>\n",
              "    </tr>\n",
              "    <tr>\n",
              "      <th>12</th>\n",
              "      <td>1982</td>\n",
              "      <td>207.0</td>\n",
              "      <td>196.0</td>\n",
              "      <td>92.0</td>\n",
              "    </tr>\n",
              "    <tr>\n",
              "      <th>13</th>\n",
              "      <td>1983</td>\n",
              "      <td>149.0</td>\n",
              "      <td>567.0</td>\n",
              "      <td>383.0</td>\n",
              "    </tr>\n",
              "    <tr>\n",
              "      <th>14</th>\n",
              "      <td>1984</td>\n",
              "      <td>121.0</td>\n",
              "      <td>253.0</td>\n",
              "      <td>253.0</td>\n",
              "    </tr>\n",
              "    <tr>\n",
              "      <th>15</th>\n",
              "      <td>1985</td>\n",
              "      <td>34.0</td>\n",
              "      <td>131.0</td>\n",
              "      <td>206.0</td>\n",
              "    </tr>\n",
              "    <tr>\n",
              "      <th>16</th>\n",
              "      <td>1986</td>\n",
              "      <td>108.0</td>\n",
              "      <td>174.0</td>\n",
              "      <td>136.0</td>\n",
              "    </tr>\n",
              "    <tr>\n",
              "      <th>17</th>\n",
              "      <td>1987</td>\n",
              "      <td>139.0</td>\n",
              "      <td>255.0</td>\n",
              "      <td>143.0</td>\n",
              "    </tr>\n",
              "    <tr>\n",
              "      <th>18</th>\n",
              "      <td>1988</td>\n",
              "      <td>108.0</td>\n",
              "      <td>382.0</td>\n",
              "      <td>369.0</td>\n",
              "    </tr>\n",
              "    <tr>\n",
              "      <th>19</th>\n",
              "      <td>1989</td>\n",
              "      <td>178.0</td>\n",
              "      <td>284.0</td>\n",
              "      <td>196.0</td>\n",
              "    </tr>\n",
              "    <tr>\n",
              "      <th>20</th>\n",
              "      <td>1990</td>\n",
              "      <td>197.0</td>\n",
              "      <td>317.0</td>\n",
              "      <td>382.0</td>\n",
              "    </tr>\n",
              "    <tr>\n",
              "      <th>21</th>\n",
              "      <td>1991</td>\n",
              "      <td>394.0</td>\n",
              "      <td>261.0</td>\n",
              "      <td>98.0</td>\n",
              "    </tr>\n",
              "    <tr>\n",
              "      <th>22</th>\n",
              "      <td>1992</td>\n",
              "      <td>41.0</td>\n",
              "      <td>NaN</td>\n",
              "      <td>NaN</td>\n",
              "    </tr>\n",
              "    <tr>\n",
              "      <th>23</th>\n",
              "      <td>1993</td>\n",
              "      <td>46.0</td>\n",
              "      <td>151.0</td>\n",
              "      <td>304.0</td>\n",
              "    </tr>\n",
              "    <tr>\n",
              "      <th>24</th>\n",
              "      <td>1994</td>\n",
              "      <td>41.0</td>\n",
              "      <td>129.0</td>\n",
              "      <td>13.0</td>\n",
              "    </tr>\n",
              "    <tr>\n",
              "      <th>25</th>\n",
              "      <td>1995</td>\n",
              "      <td>NaN</td>\n",
              "      <td>NaN</td>\n",
              "      <td>NaN</td>\n",
              "    </tr>\n",
              "    <tr>\n",
              "      <th>26</th>\n",
              "      <td>1996</td>\n",
              "      <td>61.0</td>\n",
              "      <td>246.0</td>\n",
              "      <td>108.0</td>\n",
              "    </tr>\n",
              "    <tr>\n",
              "      <th>27</th>\n",
              "      <td>1997</td>\n",
              "      <td>58.0</td>\n",
              "      <td>183.0</td>\n",
              "      <td>115.0</td>\n",
              "    </tr>\n",
              "    <tr>\n",
              "      <th>28</th>\n",
              "      <td>1998</td>\n",
              "      <td>224.0</td>\n",
              "      <td>335.0</td>\n",
              "      <td>336.0</td>\n",
              "    </tr>\n",
              "    <tr>\n",
              "      <th>29</th>\n",
              "      <td>1999</td>\n",
              "      <td>88.0</td>\n",
              "      <td>183.0</td>\n",
              "      <td>168.0</td>\n",
              "    </tr>\n",
              "    <tr>\n",
              "      <th>30</th>\n",
              "      <td>2000</td>\n",
              "      <td>234.0</td>\n",
              "      <td>202.0</td>\n",
              "      <td>156.0</td>\n",
              "    </tr>\n",
              "    <tr>\n",
              "      <th>31</th>\n",
              "      <td>2001</td>\n",
              "      <td>NaN</td>\n",
              "      <td>NaN</td>\n",
              "      <td>NaN</td>\n",
              "    </tr>\n",
              "    <tr>\n",
              "      <th>32</th>\n",
              "      <td>2002</td>\n",
              "      <td>NaN</td>\n",
              "      <td>NaN</td>\n",
              "      <td>NaN</td>\n",
              "    </tr>\n",
              "    <tr>\n",
              "      <th>33</th>\n",
              "      <td>2003</td>\n",
              "      <td>NaN</td>\n",
              "      <td>NaN</td>\n",
              "      <td>NaN</td>\n",
              "    </tr>\n",
              "    <tr>\n",
              "      <th>34</th>\n",
              "      <td>2004</td>\n",
              "      <td>31.0</td>\n",
              "      <td>96.0</td>\n",
              "      <td>171.0</td>\n",
              "    </tr>\n",
              "    <tr>\n",
              "      <th>35</th>\n",
              "      <td>2005</td>\n",
              "      <td>124.0</td>\n",
              "      <td>391.0</td>\n",
              "      <td>220.0</td>\n",
              "    </tr>\n",
              "    <tr>\n",
              "      <th>36</th>\n",
              "      <td>2006</td>\n",
              "      <td>146.0</td>\n",
              "      <td>135.0</td>\n",
              "      <td>292.0</td>\n",
              "    </tr>\n",
              "  </tbody>\n",
              "</table>\n",
              "</div>\n",
              "      <button class=\"colab-df-convert\" onclick=\"convertToInteractive('df-9b862b60-d4d7-4483-9074-f866264e5a50')\"\n",
              "              title=\"Convert this dataframe to an interactive table.\"\n",
              "              style=\"display:none;\">\n",
              "        \n",
              "  <svg xmlns=\"http://www.w3.org/2000/svg\" height=\"24px\"viewBox=\"0 0 24 24\"\n",
              "       width=\"24px\">\n",
              "    <path d=\"M0 0h24v24H0V0z\" fill=\"none\"/>\n",
              "    <path d=\"M18.56 5.44l.94 2.06.94-2.06 2.06-.94-2.06-.94-.94-2.06-.94 2.06-2.06.94zm-11 1L8.5 8.5l.94-2.06 2.06-.94-2.06-.94L8.5 2.5l-.94 2.06-2.06.94zm10 10l.94 2.06.94-2.06 2.06-.94-2.06-.94-.94-2.06-.94 2.06-2.06.94z\"/><path d=\"M17.41 7.96l-1.37-1.37c-.4-.4-.92-.59-1.43-.59-.52 0-1.04.2-1.43.59L10.3 9.45l-7.72 7.72c-.78.78-.78 2.05 0 2.83L4 21.41c.39.39.9.59 1.41.59.51 0 1.02-.2 1.41-.59l7.78-7.78 2.81-2.81c.8-.78.8-2.07 0-2.86zM5.41 20L4 18.59l7.72-7.72 1.47 1.35L5.41 20z\"/>\n",
              "  </svg>\n",
              "      </button>\n",
              "      \n",
              "  <style>\n",
              "    .colab-df-container {\n",
              "      display:flex;\n",
              "      flex-wrap:wrap;\n",
              "      gap: 12px;\n",
              "    }\n",
              "\n",
              "    .colab-df-convert {\n",
              "      background-color: #E8F0FE;\n",
              "      border: none;\n",
              "      border-radius: 50%;\n",
              "      cursor: pointer;\n",
              "      display: none;\n",
              "      fill: #1967D2;\n",
              "      height: 32px;\n",
              "      padding: 0 0 0 0;\n",
              "      width: 32px;\n",
              "    }\n",
              "\n",
              "    .colab-df-convert:hover {\n",
              "      background-color: #E2EBFA;\n",
              "      box-shadow: 0px 1px 2px rgba(60, 64, 67, 0.3), 0px 1px 3px 1px rgba(60, 64, 67, 0.15);\n",
              "      fill: #174EA6;\n",
              "    }\n",
              "\n",
              "    [theme=dark] .colab-df-convert {\n",
              "      background-color: #3B4455;\n",
              "      fill: #D2E3FC;\n",
              "    }\n",
              "\n",
              "    [theme=dark] .colab-df-convert:hover {\n",
              "      background-color: #434B5C;\n",
              "      box-shadow: 0px 1px 3px 1px rgba(0, 0, 0, 0.15);\n",
              "      filter: drop-shadow(0px 1px 2px rgba(0, 0, 0, 0.3));\n",
              "      fill: #FFFFFF;\n",
              "    }\n",
              "  </style>\n",
              "\n",
              "      <script>\n",
              "        const buttonEl =\n",
              "          document.querySelector('#df-9b862b60-d4d7-4483-9074-f866264e5a50 button.colab-df-convert');\n",
              "        buttonEl.style.display =\n",
              "          google.colab.kernel.accessAllowed ? 'block' : 'none';\n",
              "\n",
              "        async function convertToInteractive(key) {\n",
              "          const element = document.querySelector('#df-9b862b60-d4d7-4483-9074-f866264e5a50');\n",
              "          const dataTable =\n",
              "            await google.colab.kernel.invokeFunction('convertToInteractive',\n",
              "                                                     [key], {});\n",
              "          if (!dataTable) return;\n",
              "\n",
              "          const docLinkHtml = 'Like what you see? Visit the ' +\n",
              "            '<a target=\"_blank\" href=https://colab.research.google.com/notebooks/data_table.ipynb>data table notebook</a>'\n",
              "            + ' to learn more about interactive tables.';\n",
              "          element.innerHTML = '';\n",
              "          dataTable['output_type'] = 'display_data';\n",
              "          await google.colab.output.renderOutput(dataTable, element);\n",
              "          const docLink = document.createElement('div');\n",
              "          docLink.innerHTML = docLinkHtml;\n",
              "          element.appendChild(docLink);\n",
              "        }\n",
              "      </script>\n",
              "    </div>\n",
              "  </div>\n",
              "  "
            ]
          },
          "metadata": {},
          "execution_count": 468
        }
      ]
    },
    {
      "cell_type": "markdown",
      "source": [
        "### Question 1"
      ],
      "metadata": {
        "id": "hCGoJ8Zzoe9U"
      }
    },
    {
      "cell_type": "code",
      "source": [
        "# This function calculates the payoff.\n",
        "def calculate_payout(df,new_order):\n",
        "    # Define the policy parameters\n",
        "    policy_params = {\n",
        "        'Phase I': {'Period': 'Days 1-35', 'Normal Index': 60, 'Payment/mm of shortfall(Rs)': 10, 'Trigger for max': 20, 'Max payout': 1500},\n",
        "        'Phase II': {'Period': 'Days 36-80', 'Normal Index': 100, 'Payment/mm of shortfall(Rs)': 15, 'Trigger for max': 50, 'Max payout': 2000},\n",
        "        'Phase III': {'Period': 'Days 81-125', 'Normal Index': 75, 'Payment/mm of shortfall(Rs)': 15, 'Trigger for max': 50, 'Max payout': 2500}\n",
        "    }\n",
        "\n",
        "    # Create new columns for the policy payout for each phase\n",
        "    df['Payout Phase 1'] = np.nan\n",
        "    df['Payout Phase 2'] = np.nan\n",
        "    df['Payout Phase 3'] = np.nan\n",
        "\n",
        "    # Loop through each row in the DataFrame and calculate the policy payout for each phase\n",
        "    for index, row in df.iterrows():\n",
        "        phase1_rainfall = row['Phase 1']\n",
        "        phase2_rainfall = row['Phase 2']\n",
        "        phase3_rainfall = row['Phase 3']\n",
        "\n",
        "        # Calculate the policy payout for each phase\n",
        "        if pd.isna(phase1_rainfall):\n",
        "            payout_phase1 = np.nan\n",
        "        elif phase1_rainfall < policy_params['Phase I']['Trigger for max']:\n",
        "            payout_phase1 = policy_params['Phase I']['Max payout']\n",
        "        else:\n",
        "            shortfall = policy_params['Phase I']['Normal Index'] - phase1_rainfall\n",
        "            if shortfall > 0:\n",
        "                payout_phase1 = shortfall * policy_params['Phase I']['Payment/mm of shortfall(Rs)']\n",
        "            else:\n",
        "                payout_phase1 = 0\n",
        "\n",
        "        if pd.isna(phase2_rainfall):\n",
        "            payout_phase2 = np.nan\n",
        "        elif phase2_rainfall < policy_params['Phase II']['Trigger for max']:\n",
        "            payout_phase2 = policy_params['Phase II']['Max payout']\n",
        "        else:\n",
        "            shortfall = policy_params['Phase II']['Normal Index'] - phase2_rainfall\n",
        "            if shortfall > 0:\n",
        "                payout_phase2 = shortfall * policy_params['Phase II']['Payment/mm of shortfall(Rs)']\n",
        "            else:\n",
        "                payout_phase2 = 0\n",
        "\n",
        "        if pd.isna(phase3_rainfall):\n",
        "            payout_phase3 = np.nan\n",
        "        elif phase3_rainfall < policy_params['Phase III']['Trigger for max']:\n",
        "            payout_phase3 = policy_params['Phase III']['Max payout']\n",
        "        else:\n",
        "            shortfall = policy_params['Phase III']['Normal Index'] - phase3_rainfall\n",
        "            if shortfall > 0:\n",
        "                payout_phase3 = shortfall * policy_params['Phase III']['Payment/mm of shortfall(Rs)']\n",
        "            else:\n",
        "                payout_phase3 = 0\n",
        "\n",
        "        # Update the payout columns in the current row of the DataFrame\n",
        "        df.at[index, 'Payout Phase 1'] = payout_phase1\n",
        "        df.at[index, 'Payout Phase 2'] = payout_phase2\n",
        "        df.at[index, 'Payout Phase 3'] = payout_phase3\n",
        "    \n",
        "    df = df.rename(columns={'Year ': 'Year'})\n",
        "    # define new column order\n",
        "    new_order = new_order\n",
        "\n",
        "    # reorder the columns\n",
        "    df = df.reindex(columns=new_order)\n",
        "\n",
        "    df['Total Rainfall'] = df['Phase 1'] + df['Phase 2'] + df['Phase 3']\n",
        "    \n",
        "    # # Calculate the average for each row, excluding NaN values\n",
        "    # df2['Average'] = df2.sum(axis=1, skipna=True) / df2.count(axis=1, skipna=True)\n",
        "\n",
        "    return df\n"
      ],
      "metadata": {
        "id": "Of6nAgBEMYNY"
      },
      "execution_count": 547,
      "outputs": []
    },
    {
      "cell_type": "code",
      "source": [
        "# This function calculates the payoff.\n",
        "def calculate_payout(df,new_order):\n",
        "    # Define the policy parameters\n",
        "    policy_params = {\n",
        "        'Phase I': {'Period': 'Days 1-35', 'Normal Index': 60, 'Payment/mm of shortfall(Rs)': 10, 'Trigger for max': 20, 'Max payout': 1500},\n",
        "        'Phase II': {'Period': 'Days 36-80', 'Normal Index': 100, 'Payment/mm of shortfall(Rs)': 15, 'Trigger for max': 50, 'Max payout': 2000},\n",
        "        'Phase III': {'Period': 'Days 81-125', 'Normal Index': 75, 'Payment/mm of shortfall(Rs)': 15, 'Trigger for max': 50, 'Max payout': 2500}\n",
        "    }\n",
        "\n",
        "    # Create new columns for the policy payout for each phase\n",
        "    df['Payout Phase 1'] = np.nan\n",
        "    df['Payout Phase 2'] = np.nan\n",
        "    df['Payout Phase 3'] = np.nan\n",
        "\n",
        "    # Loop through each row in the DataFrame and calculate the policy payout for each phase\n",
        "    for index, row in df.iterrows():\n",
        "        phase1_rainfall = row['Phase 1']\n",
        "        phase2_rainfall = row['Phase 2']\n",
        "        phase3_rainfall = row['Phase 3']\n",
        "\n",
        "        # Calculate the policy payout for each phase\n",
        "        if pd.isna(phase1_rainfall):\n",
        "            payout_phase1 = np.nan\n",
        "        elif phase1_rainfall < policy_params['Phase I']['Trigger for max']:\n",
        "            payout_phase1 = policy_params['Phase I']['Max payout']\n",
        "        else:\n",
        "            shortfall = policy_params['Phase I']['Normal Index'] - phase1_rainfall\n",
        "            if shortfall > 0:\n",
        "                payout_phase1 = shortfall * policy_params['Phase I']['Payment/mm of shortfall(Rs)']\n",
        "            else:\n",
        "                payout_phase1 = 0\n",
        "\n",
        "        if pd.isna(phase2_rainfall):\n",
        "            payout_phase2 = np.nan\n",
        "        elif phase2_rainfall < policy_params['Phase II']['Trigger for max']:\n",
        "            payout_phase2 = policy_params['Phase II']['Max payout']\n",
        "        else:\n",
        "            shortfall = policy_params['Phase II']['Normal Index'] - phase2_rainfall\n",
        "            if shortfall > 0:\n",
        "                payout_phase2 = shortfall * policy_params['Phase II']['Payment/mm of shortfall(Rs)']\n",
        "            else:\n",
        "                payout_phase2 = 0\n",
        "\n",
        "        if pd.isna(phase3_rainfall):\n",
        "            payout_phase3 = np.nan\n",
        "        elif phase3_rainfall < policy_params['Phase III']['Trigger for max']:\n",
        "            payout_phase3 = policy_params['Phase III']['Max payout']\n",
        "        else:\n",
        "            shortfall = policy_params['Phase III']['Normal Index'] - phase3_rainfall\n",
        "            if shortfall > 0:\n",
        "                payout_phase3 = shortfall * policy_params['Phase III']['Payment/mm of shortfall(Rs)']\n",
        "            else:\n",
        "                payout_phase3 = 0\n",
        "\n",
        "        # Update the payout columns in the current row of the DataFrame\n",
        "        df.at[index, 'Payout Phase 1'] = payout_phase1\n",
        "        df.at[index, 'Payout Phase 2'] = payout_phase2\n",
        "        df.at[index, 'Payout Phase 3'] = payout_phase3\n",
        "    \n",
        "    df = df.rename(columns={'Year ': 'Year'})\n",
        "    # define new column order\n",
        "    new_order = new_order\n",
        "\n",
        "    # reorder the columns\n",
        "    df = df.reindex(columns=new_order)\n",
        "\n",
        "    df['Total Rainfall'] = df['Phase 1'] + df['Phase 2'] + df['Phase 3']\n",
        "    \n",
        "    # # Calculate the average for each row, excluding NaN values\n",
        "    # df2['Average'] = df2.sum(axis=1, skipna=True) / df2.count(axis=1, skipna=True)\n",
        "\n",
        "    return df\n"
      ],
      "metadata": {
        "id": "WzgK9L6iU18I"
      },
      "execution_count": null,
      "outputs": []
    },
    {
      "cell_type": "code",
      "source": [
        "new_order = ['Year','Phase 1','Payout Phase 1','Phase 2','Payout Phase 2','Phase 3','Payout Phase 3']\n",
        "df2 = calculate_payout(df,new_order)"
      ],
      "metadata": {
        "id": "LumJJ6arWMqk"
      },
      "execution_count": null,
      "outputs": []
    },
    {
      "cell_type": "code",
      "source": [
        "# df2"
      ],
      "metadata": {
        "id": "dBscGm05WXXU"
      },
      "execution_count": null,
      "outputs": []
    },
    {
      "cell_type": "code",
      "source": [
        "df2.info()\n",
        "# df2 = df2.dropna()"
      ],
      "metadata": {
        "colab": {
          "base_uri": "https://localhost:8080/"
        },
        "id": "xq_Xxuidj77A",
        "outputId": "e38badb3-f445-4c5b-e362-cc594935b4ff"
      },
      "execution_count": 470,
      "outputs": [
        {
          "output_type": "stream",
          "name": "stdout",
          "text": [
            "<class 'pandas.core.frame.DataFrame'>\n",
            "RangeIndex: 37 entries, 0 to 36\n",
            "Data columns (total 8 columns):\n",
            " #   Column          Non-Null Count  Dtype  \n",
            "---  ------          --------------  -----  \n",
            " 0   Year            37 non-null     int64  \n",
            " 1   Phase 1         33 non-null     float64\n",
            " 2   Payout Phase 1  33 non-null     float64\n",
            " 3   Phase 2         32 non-null     float64\n",
            " 4   Payout Phase 2  32 non-null     float64\n",
            " 5   Phase 3         32 non-null     float64\n",
            " 6   Payout Phase 3  32 non-null     float64\n",
            " 7   Total Rainfall  32 non-null     float64\n",
            "dtypes: float64(7), int64(1)\n",
            "memory usage: 2.4 KB\n"
          ]
        }
      ]
    },
    {
      "cell_type": "code",
      "source": [
        "# number of days in each phase\n",
        "days_in_each_phase = [35, 45, 45]\n",
        "\n",
        "max_avg_rainfall_phase1 = 60/days_in_each_phase[0]\n",
        "max_avg_rainfall_phase2 = 100/days_in_each_phase[0]\n",
        "max_avg_rainfall_phase3 = 75/days_in_each_phase[0]\n",
        "\n",
        "max_avg_rainfall_in_each_phase = [max_avg_rainfall_phase1,max_avg_rainfall_phase2,max_avg_rainfall_phase3]\n",
        "\n",
        "min_avg_rainfall_phase1 = (60-20)/days_in_each_phase[0]\n",
        "min_avg_rainfall_phase2 = (100-50)/days_in_each_phase[0]\n",
        "min_avg_rainfall_phase3 = (75-50)/days_in_each_phase[0]\n",
        "\n",
        "min_avg_rainfall_in_each_phase = [min_avg_rainfall_phase1,min_avg_rainfall_phase2,min_avg_rainfall_phase3]\n",
        "\n",
        "avg_rain_phase1 = np.arange(0, max_avg_rainfall_in_each_phase[0], 0.1)\n",
        "avg_rain_phase2 = np.arange(0, max_avg_rainfall_in_each_phase[1], 0.1)\n",
        "avg_rain_phase3 = np.arange(0, max_avg_rainfall_in_each_phase[2], 0.1)\n",
        "\n",
        "tot_rain_phase1 = days_in_each_phase[0]*avg_rain_phase1\n",
        "tot_rain_phase2 = days_in_each_phase[1]*avg_rain_phase2\n",
        "tot_rain_phase3 = days_in_each_phase[2]*avg_rain_phase3\n"
      ],
      "metadata": {
        "id": "G3sCjwwNsVNb"
      },
      "execution_count": 471,
      "outputs": []
    },
    {
      "cell_type": "code",
      "source": [
        "# Create a Series object from the first array\n",
        "phase1_rain = pd.Series(tot_rain_phase1, name='Phase 1')\n",
        "\n",
        "# Concatenate the Series with the other arrays\n",
        "rainfall = pd.concat([phase1_rain, pd.Series(tot_rain_phase2, name='Phase 2'), pd.Series(tot_rain_phase3, name='Phase 3')], axis=1)"
      ],
      "metadata": {
        "id": "l2yWYl33sVK0"
      },
      "execution_count": 472,
      "outputs": []
    },
    {
      "cell_type": "code",
      "source": [
        "# rainfall"
      ],
      "metadata": {
        "id": "ODjXL8DIyqW4"
      },
      "execution_count": 473,
      "outputs": []
    },
    {
      "cell_type": "code",
      "source": [
        "new_order = ['Year','Phase 1','Payout Phase 1','Phase 2','Payout Phase 2','Phase 3','Payout Phase 3']\n",
        "rainfall = calculate_payout(rainfall,new_order)\n",
        "# rainfall"
      ],
      "metadata": {
        "id": "yPk-9cz_ytUX"
      },
      "execution_count": 474,
      "outputs": []
    },
    {
      "cell_type": "code",
      "source": [
        "# Set fig size\n",
        "fig, ax = plt.subplots(figsize=(8, 6))\n",
        "\n",
        "rainfall['Phase 1'] = rainfall['Phase 1']/days_in_each_phase[0]\n",
        "rainfall['Phase 2'] = rainfall['Phase 2']/days_in_each_phase[1]\n",
        "rainfall['Phase 3'] = rainfall['Phase 3']/days_in_each_phase[2]\n",
        "\n",
        "# Plot the 'Year' and 'Payout Phase 1' columns from the cleaned DataFrame\n",
        "ax.plot(rainfall['Phase 1'], rainfall['Payout Phase 1'], label=\"Payout Phase 1\", color='blue')\n",
        "ax.plot(rainfall['Phase 2'], rainfall['Payout Phase 2'], label=\"Payout Phase 2\", color='red')\n",
        "ax.plot(rainfall['Phase 3'], rainfall['Payout Phase 3'], label=\"Payout Phase 3\", color='green')\n",
        "\n",
        "# ax.plot(X2, phase2_payoff, label=\"Payout Phase 2\", color='red')\n",
        "# ax.plot(X3, phase3_payoff, label=\"Payout Phase 3\", color='green')\n",
        "\n",
        "# Set the plot labels and title\n",
        "ax.set_xlabel('Avg Rainfall in mm')\n",
        "ax.set_ylabel('Payout (Rs.)')\n",
        "ax.set_title('Payout in all Phases vs Avg Rainfall')\n",
        "\n",
        "# Add a legend to the plot\n",
        "ax.legend()\n",
        "\n",
        "# Display the plot\n",
        "plt.show()"
      ],
      "metadata": {
        "colab": {
          "base_uri": "https://localhost:8080/",
          "height": 537
        },
        "id": "wxQOBwZGzKbU",
        "outputId": "861a60c5-8989-4aac-feb2-9a7063ab70bc"
      },
      "execution_count": 475,
      "outputs": [
        {
          "output_type": "display_data",
          "data": {
            "text/plain": [
              "<Figure size 800x600 with 1 Axes>"
            ],
            "image/png": "[encoded data removed]"
          },
          "metadata": {}
        }
      ]
    },
    {
      "cell_type": "markdown",
      "source": [
        "There are several reasons why an insurance policy based on rainfall may be more suitable than insuring the output (castor nuts) directly:\n",
        "\n",
        "- Risk management: Rainfall is a key factor in determining crop yields and quality, and is a major source of risk for farmers. By insuring rainfall, farmers are better protected against the financial impact of weather-related losses.\n",
        "- Diversification of risk: Insuring the output (castor nuts) directly may expose the insurance company to a higher level of risk. A weather-based policy helps to diversify the risk across a larger number of farmers, reducing the impact of losses on any single policyholder.\n",
        "- Simplicity and transparency: A weather-based policy is typically easier to administer and understand than one based on crop yields. There is no need for extensive crop monitoring or assessment of damage, which can be time-consuming and expensive.\n",
        "- Cost effectiveness: Insuring the output (castor nuts) directly may require higher premiums due to the greater uncertainty and risk involved. A weather-based policy can be more cost-effective for farmers, while still providing adequate protection.\n",
        "- Limited market for crop insurance: The market for crop insurance is relatively small in many developing countries, which can make it difficult for insurance companies to offer such policies. A weather-based policy can be more easily adapted to local conditions and market demands, making it a more viable option.\n",
        "\n",
        "In summary, while insuring the output (castor nuts) may seem like a more intuitive approach to risk management, a weather-based policy can provide a more practical and cost-effective solution for farmers in many regions. It helps to manage risk, diversify exposure, and simplify the insurance process while ensuring that farmers receive adequate protection against the financial impact of weather-related losses.\n",
        "\n",
        "\n",
        "### Question 2"
      ],
      "metadata": {
        "id": "W57hcx1eoQFg"
      }
    },
    {
      "cell_type": "code",
      "source": [
        "# # phase_means = [303870.6038289055, 259499.32812930204, 280005.8461288757]\n",
        "# phase_days = [35, 45, 45]\n",
        "# num_days = sum(phase_days)\n",
        "# M = [30] * 40 + [phase_means[0]] * phase_days[0] + [phase_means[1]] * phase_days[1] + [phase_means[2]] *\n"
      ],
      "metadata": {
        "id": "DTnfUoRIqVtQ"
      },
      "execution_count": 476,
      "outputs": []
    },
    {
      "cell_type": "code",
      "source": [
        "from scipy.stats import norm\n",
        "\n",
        "def calculate_phase_means(df):\n",
        "  # Drop any rows with missing values fror rainfall in all the phases\n",
        "  df_cleaned = df.dropna(subset=['Phase 1', 'Phase 2', 'Phase 3'])\n",
        "\n",
        "  # Calculate the means of the three phases\n",
        "  phase1_mean = df_cleaned['Phase 1'].mean()\n",
        "  phase2_mean = df_cleaned['Phase 2'].mean()\n",
        "  phase3_mean = df_cleaned['Phase 3'].mean()\n",
        "\n",
        "  # Store the means in a NumPy array\n",
        "  means_array = np.array([phase1_mean, phase2_mean, phase3_mean])\n",
        "\n",
        "  return means_array\n",
        "  \n",
        "# Get the seasonal means from the dataframe\n",
        "phase_mean = calculate_phase_means(df)\n",
        "\n",
        "# Define the seasonal mean Mt for each phase\n",
        "M = [30] * 40 + [phase_mean[0]] * 35 + [phase_mean[1]] * 45 + [phase_mean[2]] * 45\n",
        "\n",
        "def simulate_rainfall_process(df, M, num_simulation, num_days, dt, initial_BM, sigma_val):\n",
        "\n",
        "  # Define the initial price P0 and time step dt\n",
        "  P0 = initial_BM\n",
        "\n",
        "  # Define the sigma function sigma(t) for each phase\n",
        "  def sigma(t):\n",
        "    if t < 40:\n",
        "      return sigma_val[0]\n",
        "    elif t < 90:\n",
        "      return sigma_val[1]\n",
        "    elif t <= 165:\n",
        "      return sigma_val[2]\n",
        "\n",
        "  # Define the function to simulate the rainfall process\n",
        "  def simulate_rainfall(M, sigma, P0, dt, num_days):\n",
        "    # Initialize Pt and the Brownian motion\n",
        "    P = np.empty(num_days)\n",
        "    P[0] = P0\n",
        "\n",
        "    W = np.empty(num_days)\n",
        "    W[0] = 0\n",
        "\n",
        "    # Simulate the Brownian motion and the price\n",
        "    for t in range(1, num_days):\n",
        "      # Brownian Motion\n",
        "      dW = np.random.normal(0, np.sqrt(dt))\n",
        "      dP = sigma(t) * P[t-1] * dW\n",
        "      P[t] = P[t-1] + dP\n",
        "      W[t] = W[t-1] + dW\n",
        "\n",
        "    # Calculate the rainfall from the simulated price\n",
        "    rainfall = [M[t] * P[t] for t in range(num_days)]\n",
        "\n",
        "    return rainfall\n",
        "\n",
        "  # Simulate the rainfall process and calculate the average rainfall in each phase\n",
        "  averages = pd.DataFrame(columns=['Simulation', 'Day', 'Phase 1', 'Phase 2', 'Phase 3'])\n",
        "\n",
        "  for i in range(num_simulations):\n",
        "    rainfall = simulate_rainfall(M, sigma, P0, dt, num_days)\n",
        "    phase1 = np.mean(rainfall[40:76])\n",
        "    phase2 = np.mean(rainfall[76:121])\n",
        "    phase3 = np.mean(rainfall[121:])\n",
        "    \n",
        "    sim_data = {'Simulation': i+1, 'Day': np.arange(1, num_days+1), 'Phase 1': phase1, 'Phase 2': phase2, 'Phase 3': phase3}\n",
        "    sim_df = pd.DataFrame(sim_data)\n",
        "    averages = pd.concat([averages, sim_df])\n",
        "\n",
        "  averages = averages.groupby('Simulation').mean()\n",
        "  averages = averages.reset_index(inplace=False)\n",
        "\n",
        "  averages = round(averages,5)\n",
        "  return averages\n",
        "\n"
      ],
      "metadata": {
        "id": "x8eXniNHACGE"
      },
      "execution_count": 647,
      "outputs": []
    },
    {
      "cell_type": "code",
      "source": [
        "initial_BM = 1\n",
        "num_simulations = 1500\n",
        "dt = 1\n",
        "days = 165\n",
        "sigma_val = [0.07,0.04,0.03]\n",
        "averages = simulate_rainfall_process(df, M, num_simulations, days, dt, initial_BM, sigma_val)\n",
        "# averages"
      ],
      "metadata": {
        "id": "vZcHU9fT9cw-"
      },
      "execution_count": 692,
      "outputs": []
    },
    {
      "cell_type": "code",
      "source": [
        "averages"
      ],
      "metadata": {
        "colab": {
          "base_uri": "https://localhost:8080/",
          "height": 352
        },
        "id": "d_6lJr5H6zdH",
        "outputId": "f0b0fda3-2b8f-436b-9ec3-30556ab1774f"
      },
      "execution_count": 693,
      "outputs": [
        {
          "output_type": "execute_result",
          "data": {
            "text/plain": [
              "      Simulation    Phase 1    Phase 2    Phase 3\n",
              "0              1  337.61899  756.05568  480.43456\n",
              "1              2   76.40808  116.34307   78.66702\n",
              "2              3   98.58018  174.08197  136.10847\n",
              "3              4   86.80633  180.27872  131.56879\n",
              "4              5  202.39864  320.80742  301.80296\n",
              "...          ...        ...        ...        ...\n",
              "1495        1496   85.75145  144.26341  132.23515\n",
              "1496        1497  298.29424  616.85430  432.20975\n",
              "1497        1498  139.27944  365.51470  274.32457\n",
              "1498        1499  187.16095  280.70916  189.82692\n",
              "1499        1500  172.30874  323.58294  243.89892\n",
              "\n",
              "[1500 rows x 4 columns]"
            ],
            "text/html": [
              "\n",
              "  <div id=\"df-d198a770-9cdb-4175-a7b3-af9993ea42ab\">\n",
              "    <div class=\"colab-df-container\">\n",
              "      <div>\n",
              "<style scoped>\n",
              "    .dataframe tbody tr th:only-of-type {\n",
              "        vertical-align: middle;\n",
              "    }\n",
              "\n",
              "    .dataframe tbody tr th {\n",
              "        vertical-align: top;\n",
              "    }\n",
              "\n",
              "    .dataframe thead th {\n",
              "        text-align: right;\n",
              "    }\n",
              "</style>\n",
              "<table border=\"1\" class=\"dataframe\">\n",
              "  <thead>\n",
              "    <tr style=\"text-align: right;\">\n",
              "      <th></th>\n",
              "      <th>Simulation</th>\n",
              "      <th>Phase 1</th>\n",
              "      <th>Phase 2</th>\n",
              "      <th>Phase 3</th>\n",
              "    </tr>\n",
              "  </thead>\n",
              "  <tbody>\n",
              "    <tr>\n",
              "      <th>0</th>\n",
              "      <td>1</td>\n",
              "      <td>337.61899</td>\n",
              "      <td>756.05568</td>\n",
              "      <td>480.43456</td>\n",
              "    </tr>\n",
              "    <tr>\n",
              "      <th>1</th>\n",
              "      <td>2</td>\n",
              "      <td>76.40808</td>\n",
              "      <td>116.34307</td>\n",
              "      <td>78.66702</td>\n",
              "    </tr>\n",
              "    <tr>\n",
              "      <th>2</th>\n",
              "      <td>3</td>\n",
              "      <td>98.58018</td>\n",
              "      <td>174.08197</td>\n",
              "      <td>136.10847</td>\n",
              "    </tr>\n",
              "    <tr>\n",
              "      <th>3</th>\n",
              "      <td>4</td>\n",
              "      <td>86.80633</td>\n",
              "      <td>180.27872</td>\n",
              "      <td>131.56879</td>\n",
              "    </tr>\n",
              "    <tr>\n",
              "      <th>4</th>\n",
              "      <td>5</td>\n",
              "      <td>202.39864</td>\n",
              "      <td>320.80742</td>\n",
              "      <td>301.80296</td>\n",
              "    </tr>\n",
              "    <tr>\n",
              "      <th>...</th>\n",
              "      <td>...</td>\n",
              "      <td>...</td>\n",
              "      <td>...</td>\n",
              "      <td>...</td>\n",
              "    </tr>\n",
              "    <tr>\n",
              "      <th>1495</th>\n",
              "      <td>1496</td>\n",
              "      <td>85.75145</td>\n",
              "      <td>144.26341</td>\n",
              "      <td>132.23515</td>\n",
              "    </tr>\n",
              "    <tr>\n",
              "      <th>1496</th>\n",
              "      <td>1497</td>\n",
              "      <td>298.29424</td>\n",
              "      <td>616.85430</td>\n",
              "      <td>432.20975</td>\n",
              "    </tr>\n",
              "    <tr>\n",
              "      <th>1497</th>\n",
              "      <td>1498</td>\n",
              "      <td>139.27944</td>\n",
              "      <td>365.51470</td>\n",
              "      <td>274.32457</td>\n",
              "    </tr>\n",
              "    <tr>\n",
              "      <th>1498</th>\n",
              "      <td>1499</td>\n",
              "      <td>187.16095</td>\n",
              "      <td>280.70916</td>\n",
              "      <td>189.82692</td>\n",
              "    </tr>\n",
              "    <tr>\n",
              "      <th>1499</th>\n",
              "      <td>1500</td>\n",
              "      <td>172.30874</td>\n",
              "      <td>323.58294</td>\n",
              "      <td>243.89892</td>\n",
              "    </tr>\n",
              "  </tbody>\n",
              "</table>\n",
              "<p>1500 rows × 4 columns</p>\n",
              "</div>\n",
              "      <button class=\"colab-df-convert\" onclick=\"convertToInteractive('df-d198a770-9cdb-4175-a7b3-af9993ea42ab')\"\n",
              "              title=\"Convert this dataframe to an interactive table.\"\n",
              "              style=\"display:none;\">\n",
              "        \n",
              "  <svg xmlns=\"http://www.w3.org/2000/svg\" height=\"24px\"viewBox=\"0 0 24 24\"\n",
              "       width=\"24px\">\n",
              "    <path d=\"M0 0h24v24H0V0z\" fill=\"none\"/>\n",
              "    <path d=\"M18.56 5.44l.94 2.06.94-2.06 2.06-.94-2.06-.94-.94-2.06-.94 2.06-2.06.94zm-11 1L8.5 8.5l.94-2.06 2.06-.94-2.06-.94L8.5 2.5l-.94 2.06-2.06.94zm10 10l.94 2.06.94-2.06 2.06-.94-2.06-.94-.94-2.06-.94 2.06-2.06.94z\"/><path d=\"M17.41 7.96l-1.37-1.37c-.4-.4-.92-.59-1.43-.59-.52 0-1.04.2-1.43.59L10.3 9.45l-7.72 7.72c-.78.78-.78 2.05 0 2.83L4 21.41c.39.39.9.59 1.41.59.51 0 1.02-.2 1.41-.59l7.78-7.78 2.81-2.81c.8-.78.8-2.07 0-2.86zM5.41 20L4 18.59l7.72-7.72 1.47 1.35L5.41 20z\"/>\n",
              "  </svg>\n",
              "      </button>\n",
              "      \n",
              "  <style>\n",
              "    .colab-df-container {\n",
              "      display:flex;\n",
              "      flex-wrap:wrap;\n",
              "      gap: 12px;\n",
              "    }\n",
              "\n",
              "    .colab-df-convert {\n",
              "      background-color: #E8F0FE;\n",
              "      border: none;\n",
              "      border-radius: 50%;\n",
              "      cursor: pointer;\n",
              "      display: none;\n",
              "      fill: #1967D2;\n",
              "      height: 32px;\n",
              "      padding: 0 0 0 0;\n",
              "      width: 32px;\n",
              "    }\n",
              "\n",
              "    .colab-df-convert:hover {\n",
              "      background-color: #E2EBFA;\n",
              "      box-shadow: 0px 1px 2px rgba(60, 64, 67, 0.3), 0px 1px 3px 1px rgba(60, 64, 67, 0.15);\n",
              "      fill: #174EA6;\n",
              "    }\n",
              "\n",
              "    [theme=dark] .colab-df-convert {\n",
              "      background-color: #3B4455;\n",
              "      fill: #D2E3FC;\n",
              "    }\n",
              "\n",
              "    [theme=dark] .colab-df-convert:hover {\n",
              "      background-color: #434B5C;\n",
              "      box-shadow: 0px 1px 3px 1px rgba(0, 0, 0, 0.15);\n",
              "      filter: drop-shadow(0px 1px 2px rgba(0, 0, 0, 0.3));\n",
              "      fill: #FFFFFF;\n",
              "    }\n",
              "  </style>\n",
              "\n",
              "      <script>\n",
              "        const buttonEl =\n",
              "          document.querySelector('#df-d198a770-9cdb-4175-a7b3-af9993ea42ab button.colab-df-convert');\n",
              "        buttonEl.style.display =\n",
              "          google.colab.kernel.accessAllowed ? 'block' : 'none';\n",
              "\n",
              "        async function convertToInteractive(key) {\n",
              "          const element = document.querySelector('#df-d198a770-9cdb-4175-a7b3-af9993ea42ab');\n",
              "          const dataTable =\n",
              "            await google.colab.kernel.invokeFunction('convertToInteractive',\n",
              "                                                     [key], {});\n",
              "          if (!dataTable) return;\n",
              "\n",
              "          const docLinkHtml = 'Like what you see? Visit the ' +\n",
              "            '<a target=\"_blank\" href=https://colab.research.google.com/notebooks/data_table.ipynb>data table notebook</a>'\n",
              "            + ' to learn more about interactive tables.';\n",
              "          element.innerHTML = '';\n",
              "          dataTable['output_type'] = 'display_data';\n",
              "          await google.colab.output.renderOutput(dataTable, element);\n",
              "          const docLink = document.createElement('div');\n",
              "          docLink.innerHTML = docLinkHtml;\n",
              "          element.appendChild(docLink);\n",
              "        }\n",
              "      </script>\n",
              "    </div>\n",
              "  </div>\n",
              "  "
            ]
          },
          "metadata": {},
          "execution_count": 693
        }
      ]
    },
    {
      "cell_type": "code",
      "source": [
        "total_count_zeros = averages.size - np.count_nonzero(averages)\n",
        "print(\"Total count of 0 values:\", total_count_zeros)"
      ],
      "metadata": {
        "colab": {
          "base_uri": "https://localhost:8080/"
        },
        "id": "Nm9eZ9nDrHQg",
        "outputId": "30726948-ae0b-4234-8972-88a2abc532e2"
      },
      "execution_count": 694,
      "outputs": [
        {
          "output_type": "stream",
          "name": "stdout",
          "text": [
            "Total count of 0 values: 0\n"
          ]
        }
      ]
    },
    {
      "cell_type": "code",
      "source": [
        "import seaborn as sns\n",
        "\n",
        "# Create subplots for each phase\n",
        "fig, axes = plt.subplots(nrows=1, ncols=3, figsize=(12, 4))\n",
        "\n",
        "# Plot KDE for Phase 1\n",
        "sns.kdeplot(data=averages['Phase 1'], ax=axes[0])\n",
        "axes[0].set_title('Phase 1')\n",
        "\n",
        "# Plot KDE for Phase 2\n",
        "sns.kdeplot(data=averages['Phase 2'], ax=axes[1])\n",
        "axes[1].set_title('Phase 2')\n",
        "\n",
        "# Plot KDE for Phase 3\n",
        "sns.kdeplot(data=averages['Phase 3'], ax=axes[2])\n",
        "axes[2].set_title('Phase 3')\n",
        "\n",
        "# Set the overall title for the plot\n",
        "fig.suptitle('Kernel Density Estimation of Rainfall Averages')\n",
        "\n",
        "# Display the plot\n",
        "plt.show()"
      ],
      "metadata": {
        "colab": {
          "base_uri": "https://localhost:8080/",
          "height": 287
        },
        "id": "UOCUNVNBtaJ2",
        "outputId": "1918183d-7178-4439-f536-7b218235ad1a"
      },
      "execution_count": 695,
      "outputs": [
        {
          "output_type": "display_data",
          "data": {
            "text/plain": [
              "<Figure size 1200x400 with 3 Axes>"
            ],
            "image/png": "[encoded data removed]"
          },
          "metadata": {}
        }
      ]
    },
    {
      "cell_type": "code",
      "source": [
        "# Create histograms for each column\n",
        "fig, axs = plt.subplots(1, 3, figsize=(15,5))\n",
        "axs[0].hist(averages['Phase 1'], bins=40)\n",
        "axs[1].hist(averages['Phase 2'], bins=40)\n",
        "axs[2].hist(averages['Phase 3'], bins=40)\n",
        "\n",
        "# Add titles and axis labels\n",
        "axs[0].set_title('Phase 1')\n",
        "axs[1].set_title('Phase 2')\n",
        "axs[2].set_title('Phase 3')\n",
        "axs[0].set_xlabel('Average Rainfall')\n",
        "axs[1].set_xlabel('Average Rainfall')\n",
        "axs[2].set_xlabel('Average Rainfall')\n",
        "axs[0].set_ylabel('Frequency')\n",
        "plt.show()\n"
      ],
      "metadata": {
        "id": "o5DYwYuReTP4",
        "colab": {
          "base_uri": "https://localhost:8080/",
          "height": 271
        },
        "outputId": "0a275baa-442a-430f-c0bc-a05cdee23555"
      },
      "execution_count": 696,
      "outputs": [
        {
          "output_type": "display_data",
          "data": {
            "text/plain": [
              "<Figure size 1500x500 with 3 Axes>"
            ],
            "image/png": "[encoded data removed]"
          },
          "metadata": {}
        }
      ]
    },
    {
      "cell_type": "code",
      "source": [
        "# Calculate standard deviation of each column\n",
        "sd_phase1 = np.std(df['Phase 1'])\n",
        "sd_phase2 = np.std(df['Phase 2'])\n",
        "sd_phase3 = np.std(df['Phase 3'])\n",
        "\n",
        "# Print the standard deviation of each column\n",
        "print('Phase 1 standard deviation:', sd_phase1)\n",
        "print('Phase 2 standard deviation:', sd_phase2)\n",
        "print('Phase 3 standard deviation:', sd_phase3)"
      ],
      "metadata": {
        "colab": {
          "base_uri": "https://localhost:8080/"
        },
        "id": "WM_DMWmuitCj",
        "outputId": "c08af16b-a905-4c60-c79f-75a94e3c3995"
      },
      "execution_count": 697,
      "outputs": [
        {
          "output_type": "stream",
          "name": "stdout",
          "text": [
            "Phase 1 standard deviation: 80.14172478443001\n",
            "Phase 2 standard deviation: 124.81522280455216\n",
            "Phase 3 standard deviation: 102.68922605822628\n"
          ]
        }
      ]
    },
    {
      "cell_type": "code",
      "source": [
        "# Calculate standard deviation of each column\n",
        "sd_phase1 = np.std(averages['Phase 1'])\n",
        "sd_phase2 = np.std(averages['Phase 2'])\n",
        "sd_phase3 = np.std(averages['Phase 3'])\n",
        "\n",
        "# Print the standard deviation of each column\n",
        "print('Phase 1 standard deviation:', sd_phase1)\n",
        "print('Phase 2 standard deviation:', sd_phase2)\n",
        "print('Phase 3 standard deviation:', sd_phase3)"
      ],
      "metadata": {
        "colab": {
          "base_uri": "https://localhost:8080/"
        },
        "id": "n1CK1Dre3B6Q",
        "outputId": "46a0761d-706f-47a4-d36d-f7015aafef6a"
      },
      "execution_count": 698,
      "outputs": [
        {
          "output_type": "stream",
          "name": "stdout",
          "text": [
            "Phase 1 standard deviation: 72.52040519396056\n",
            "Phase 2 standard deviation: 157.81597359990346\n",
            "Phase 3 standard deviation: 142.09293030465744\n"
          ]
        }
      ]
    },
    {
      "cell_type": "markdown",
      "source": [
        "After trial and error, this is the closest we could arrive at sigma values.\n"
      ],
      "metadata": {
        "id": "OpyKu9_v6Y0N"
      }
    },
    {
      "cell_type": "code",
      "source": [
        "print(\"Sigma for Phase 1: \",sigma_val[0])\n",
        "print(\"Sigma for Phase 2: \",sigma_val[1])\n",
        "print(\"Sigma for Phase 3: \",sigma_val[2])"
      ],
      "metadata": {
        "colab": {
          "base_uri": "https://localhost:8080/"
        },
        "id": "5GbIFCq56YBA",
        "outputId": "387811fc-dbb6-475a-9148-1e7d5af4d6ca"
      },
      "execution_count": 706,
      "outputs": [
        {
          "output_type": "stream",
          "name": "stdout",
          "text": [
            "Sigma for Phase 1:  0.07\n",
            "Sigma for Phase 2:  0.04\n",
            "Sigma for Phase 3:  0.03\n"
          ]
        }
      ]
    },
    {
      "cell_type": "markdown",
      "source": [
        "### Question 3"
      ],
      "metadata": {
        "id": "wyOZF6yLj-4f"
      }
    },
    {
      "cell_type": "markdown",
      "source": [
        "he numbers in the code correspond to the time-weighted average of the payout period for each phase. The payout period is the number of days from the end of the phase to the date of payment, which is assumed to be 30 days after the end of each phase.\n",
        "\n",
        "For example, in Phase 1, the payout is made for days 1-35, which ends on day 35. The payout is assumed to be made 30 days after the end of the phase, so the present value calculation is based on a time period of 65 days (35 days of phase 1 + 30 days until payout). The time-weighted average of the payout period is (35+95)/2 = 65 days, which is used in the present value calculation.\n",
        "\n",
        "Similarly, for Phase 2, the payout period is days 36-80, which ends on day 80. The payout is assumed to be made 30 days after the end of the phase, so the present value calculation is based on a time period of 110 days (80 days of phase 2 + 30 days until payout). The time-weighted average of the payout period is (80+150)/2 = 115 days, which is used in the present value calculation.\n",
        "\n",
        "Finally, for Phase 3, the payout period is days 81-125, which ends on day 125. The payout is assumed to be made 30 days after the end of the phase, so the present value calculation is based on a time period of 155 days (125 days of phase 3 + 30 days until payout). The time-weighted average of the payout period is (125+235)/2 = 180 days, which is used in the present value calculation"
      ],
      "metadata": {
        "id": "OLdLC5xzgXs6"
      }
    },
    {
      "cell_type": "code",
      "source": [
        "from scipy.stats import norm\n",
        "\n",
        "def simulate_rainfall_process(df, M, num_simulation, num_days, dt, initial_BM, sigma_val, lambda_rain):\n",
        "\n",
        "  # Define the initial price P0 and time step dt\n",
        "  P0 = initial_BM\n",
        "\n",
        "  # Define the sigma function sigma(t) for each phase\n",
        "  def sigma(t):\n",
        "    if t < 40:\n",
        "      return sigma_val[0]\n",
        "    elif t < 90:\n",
        "      return sigma_val[1]\n",
        "    elif t <= 165:\n",
        "      return sigma_val[2]\n",
        "\n",
        "  # Define the function to simulate the rainfall process\n",
        "  def simulate_rainfall(M, sigma, P0, dt, num_days, lambda_rain):\n",
        "    # Initialize Pt and the Brownian motion\n",
        "    P = np.empty(num_days)\n",
        "    P[0] = P0\n",
        "\n",
        "    W = np.empty(num_days)\n",
        "    W[0] = 0\n",
        "\n",
        "    # Simulate the Brownian motion and the price\n",
        "    for t in range(1, num_days):\n",
        "      # Brownian Motion\n",
        "      dW = np.random.normal(0, np.sqrt(dt))\n",
        "      # dP = sigma(t) * P[t-1] * dW\n",
        "      dP = sigma(t) * P[t-1] * dW - lambda_rain * sigma(t) * P[t-1] * dt\n",
        "      P[t] = P[t-1] + dP\n",
        "      W[t] = W[t-1] + dW\n",
        "\n",
        "    # Calculate the rainfall from the simulated price\n",
        "    rainfall = [M[t] * P[t] for t in range(num_days)]\n",
        "\n",
        "    return rainfall\n",
        "\n",
        "  # Simulate the rainfall process and calculate the average rainfall in each phase\n",
        "  averages = pd.DataFrame(columns=['Simulation','Lambda', 'Day', 'Phase 1', 'Phase 2', 'Phase 3'])\n",
        "\n",
        "  count = 0\n",
        "\n",
        "  for j in range(len(lambda_rain_values)):\n",
        "    for i in range(num_simulations):\n",
        "      rainfall = simulate_rainfall(M, sigma, P0, dt, num_days, lambda_rain_values[j])\n",
        "      phase1 = np.mean(rainfall[40:76])\n",
        "      phase2 = np.mean(rainfall[76:121])\n",
        "      phase3 = np.mean(rainfall[121:])\n",
        "      \n",
        "      sim_data = {'Simulation': i+1, 'Lambda': lambda_rain_values[j],'Day': np.arange(1, num_days+1), 'Phase 1': phase1, 'Phase 2': phase2, 'Phase 3': phase3}\n",
        "      sim_df = pd.DataFrame(sim_data)\n",
        "      sim_df = round(sim_df,5)\n",
        "      averages = pd.concat([averages, sim_df])\n",
        "    temp = averages.groupby('Simulation').mean()\n",
        "    temp = temp.reset_index(inplace=False)\n",
        "\n",
        "    new_order = ['Simulation','Lambda','Phase 1','Payout Phase 1','Phase 2','Payout Phase 2','Phase 3','Payout Phase 3']\n",
        "    temp = calculate_payout(temp,new_order)\n",
        "    \n",
        "    if count == 0:\n",
        "      output = temp\n",
        "      count = count + 1\n",
        "    else:\n",
        "      output = pd.concat([output, temp])\n",
        "\n",
        "  return output\n"
      ],
      "metadata": {
        "id": "9i_Ufq1-EfcD"
      },
      "execution_count": 702,
      "outputs": []
    },
    {
      "cell_type": "code",
      "source": [
        "initial_BM = 1\n",
        "num_simulations = 3000\n",
        "dt = 1\n",
        "days = 165\n",
        "sigma_val = [0.07,0.04,0.03]\n",
        "lambda_rain_values = [0.106]\n",
        "averages = simulate_rainfall_process(df, M, num_simulations, days, dt, initial_BM, sigma_val, lambda_rain_values)\n",
        "# averages"
      ],
      "metadata": {
        "id": "A642OapOEfcK"
      },
      "execution_count": 848,
      "outputs": []
    },
    {
      "cell_type": "code",
      "source": [
        "averages['Lambda'].value_counts()\n",
        "# averages"
      ],
      "metadata": {
        "colab": {
          "base_uri": "https://localhost:8080/"
        },
        "id": "DRB4H_IAj9gh",
        "outputId": "dd12feba-7c59-44f5-ca49-e54f6101f653"
      },
      "execution_count": 849,
      "outputs": [
        {
          "output_type": "execute_result",
          "data": {
            "text/plain": [
              "0.106    3000\n",
              "Name: Lambda, dtype: int64"
            ]
          },
          "metadata": {},
          "execution_count": 849
        }
      ]
    },
    {
      "cell_type": "code",
      "source": [
        "# averages"
      ],
      "metadata": {
        "id": "puC_CoKHj9cM"
      },
      "execution_count": 850,
      "outputs": []
    },
    {
      "cell_type": "code",
      "source": [
        "averages = averages.reset_index(drop=True)"
      ],
      "metadata": {
        "id": "qdWaS1rxjzcC"
      },
      "execution_count": 851,
      "outputs": []
    },
    {
      "cell_type": "code",
      "source": [
        "def calculate_present_value(df, num_simulations, r):\n",
        "    present_values = pd.DataFrame(columns=['Simulation', 'Present Value'])\n",
        "    for i in range(num_simulations):\n",
        "        # payout_data = df[df['Simulation'] == i+1]\n",
        "        total_payout_phase1 = df['Payout Phase 1'][i]\n",
        "        total_payout_phase2 = df['Payout Phase 2'][i]\n",
        "        total_payout_phase3 = df['Payout Phase 3'][i]\n",
        "        pv_phase1 = total_payout_phase1 / ((1 + r) ** 0.082191)\n",
        "        pv_phase2 = total_payout_phase2 / ((1 + r) ** 0.205479)\n",
        "        pv_phase3 = total_payout_phase3 / ((1 + r) ** 0.369863)\n",
        "\n",
        "        present_value = (pv_phase1 + pv_phase2 + pv_phase3) / 3\n",
        "        # df['present_value'] = np.nan\n",
        "        # df['present_value'][i] = present_value\n",
        "\n",
        "        present_values = pd.concat([present_values, pd.DataFrame({'Simulation': [i+1], 'Present Value': [present_value]})], ignore_index=True)\n",
        "\n",
        "    return present_values\n"
      ],
      "metadata": {
        "id": "DBo0Agdzj9Z5"
      },
      "execution_count": 852,
      "outputs": []
    },
    {
      "cell_type": "code",
      "source": [
        "# averages"
      ],
      "metadata": {
        "id": "Ov8q9eSnm66q"
      },
      "execution_count": 853,
      "outputs": []
    },
    {
      "cell_type": "code",
      "source": [
        "# initial_BM = 1\n",
        "# num_simulations = 500\n",
        "# dt = 1\n",
        "# days = 165\n",
        "# sigma_val = [0.07,0.04,0.06]\n",
        "# lambda_rain_values = [0.1,0.2]\n",
        "# averages = simulate_rainfall_process(df, M, num_simulations, days, dt, initial_BM, sigma_val, lambda_rain_values)\n",
        "# averages = averages.reset_index(drop=True)"
      ],
      "metadata": {
        "id": "vHnXDDsAntHF"
      },
      "execution_count": 854,
      "outputs": []
    },
    {
      "cell_type": "code",
      "source": [
        "t = averages#[averages['Lambda']==lambda_rain_values[0]]\n",
        "t"
      ],
      "metadata": {
        "colab": {
          "base_uri": "https://localhost:8080/",
          "height": 410
        },
        "id": "hFHqZHH7mh4e",
        "outputId": "f1c130df-6b34-4993-9144-fec23a48f94b"
      },
      "execution_count": 855,
      "outputs": [
        {
          "output_type": "execute_result",
          "data": {
            "text/plain": [
              "      Simulation  Lambda    Phase 1  Payout Phase 1    Phase 2  \\\n",
              "0              1   0.106  104.76629          0.0000  141.40483   \n",
              "1              2   0.106   80.66666          0.0000   97.42180   \n",
              "2              3   0.106  196.80161          0.0000  246.33238   \n",
              "3              4   0.106   68.96807          0.0000  105.78708   \n",
              "4              5   0.106   74.39204          0.0000  102.49685   \n",
              "...          ...     ...        ...             ...        ...   \n",
              "2995        2996   0.106   29.45221        305.4779   33.08508   \n",
              "2996        2997   0.106   43.62198        163.7802   73.32538   \n",
              "2997        2998   0.106  109.26510          0.0000  109.71406   \n",
              "2998        2999   0.106   98.40430          0.0000  212.82837   \n",
              "2999        3000   0.106   39.35189        206.4811   47.89822   \n",
              "\n",
              "      Payout Phase 2    Phase 3  Payout Phase 3  Total Rainfall  \n",
              "0             0.0000   73.91123        16.33155       320.08235  \n",
              "1            38.6730   72.93740        30.93900       251.02586  \n",
              "2             0.0000  148.32486         0.00000       591.45885  \n",
              "3             0.0000   71.54729        51.79065       246.30244  \n",
              "4             0.0000   85.87324         0.00000       262.76213  \n",
              "...              ...        ...             ...             ...  \n",
              "2995       2000.0000   18.79276      2500.00000        81.33005  \n",
              "2996        400.1193   59.03984       239.40240       175.98720  \n",
              "2997          0.0000   61.84817       197.27745       280.82733  \n",
              "2998          0.0000  168.72533         0.00000       479.95800  \n",
              "2999       2000.0000   25.19971      2500.00000       112.44982  \n",
              "\n",
              "[3000 rows x 9 columns]"
            ],
            "text/html": [
              "\n",
              "  <div id=\"df-fc4c954f-a4de-4a1f-b6bc-c08dca08e656\">\n",
              "    <div class=\"colab-df-container\">\n",
              "      <div>\n",
              "<style scoped>\n",
              "    .dataframe tbody tr th:only-of-type {\n",
              "        vertical-align: middle;\n",
              "    }\n",
              "\n",
              "    .dataframe tbody tr th {\n",
              "        vertical-align: top;\n",
              "    }\n",
              "\n",
              "    .dataframe thead th {\n",
              "        text-align: right;\n",
              "    }\n",
              "</style>\n",
              "<table border=\"1\" class=\"dataframe\">\n",
              "  <thead>\n",
              "    <tr style=\"text-align: right;\">\n",
              "      <th></th>\n",
              "      <th>Simulation</th>\n",
              "      <th>Lambda</th>\n",
              "      <th>Phase 1</th>\n",
              "      <th>Payout Phase 1</th>\n",
              "      <th>Phase 2</th>\n",
              "      <th>Payout Phase 2</th>\n",
              "      <th>Phase 3</th>\n",
              "      <th>Payout Phase 3</th>\n",
              "      <th>Total Rainfall</th>\n",
              "    </tr>\n",
              "  </thead>\n",
              "  <tbody>\n",
              "    <tr>\n",
              "      <th>0</th>\n",
              "      <td>1</td>\n",
              "      <td>0.106</td>\n",
              "      <td>104.76629</td>\n",
              "      <td>0.0000</td>\n",
              "      <td>141.40483</td>\n",
              "      <td>0.0000</td>\n",
              "      <td>73.91123</td>\n",
              "      <td>16.33155</td>\n",
              "      <td>320.08235</td>\n",
              "    </tr>\n",
              "    <tr>\n",
              "      <th>1</th>\n",
              "      <td>2</td>\n",
              "      <td>0.106</td>\n",
              "      <td>80.66666</td>\n",
              "      <td>0.0000</td>\n",
              "      <td>97.42180</td>\n",
              "      <td>38.6730</td>\n",
              "      <td>72.93740</td>\n",
              "      <td>30.93900</td>\n",
              "      <td>251.02586</td>\n",
              "    </tr>\n",
              "    <tr>\n",
              "      <th>2</th>\n",
              "      <td>3</td>\n",
              "      <td>0.106</td>\n",
              "      <td>196.80161</td>\n",
              "      <td>0.0000</td>\n",
              "      <td>246.33238</td>\n",
              "      <td>0.0000</td>\n",
              "      <td>148.32486</td>\n",
              "      <td>0.00000</td>\n",
              "      <td>591.45885</td>\n",
              "    </tr>\n",
              "    <tr>\n",
              "      <th>3</th>\n",
              "      <td>4</td>\n",
              "      <td>0.106</td>\n",
              "      <td>68.96807</td>\n",
              "      <td>0.0000</td>\n",
              "      <td>105.78708</td>\n",
              "      <td>0.0000</td>\n",
              "      <td>71.54729</td>\n",
              "      <td>51.79065</td>\n",
              "      <td>246.30244</td>\n",
              "    </tr>\n",
              "    <tr>\n",
              "      <th>4</th>\n",
              "      <td>5</td>\n",
              "      <td>0.106</td>\n",
              "      <td>74.39204</td>\n",
              "      <td>0.0000</td>\n",
              "      <td>102.49685</td>\n",
              "      <td>0.0000</td>\n",
              "      <td>85.87324</td>\n",
              "      <td>0.00000</td>\n",
              "      <td>262.76213</td>\n",
              "    </tr>\n",
              "    <tr>\n",
              "      <th>...</th>\n",
              "      <td>...</td>\n",
              "      <td>...</td>\n",
              "      <td>...</td>\n",
              "      <td>...</td>\n",
              "      <td>...</td>\n",
              "      <td>...</td>\n",
              "      <td>...</td>\n",
              "      <td>...</td>\n",
              "      <td>...</td>\n",
              "    </tr>\n",
              "    <tr>\n",
              "      <th>2995</th>\n",
              "      <td>2996</td>\n",
              "      <td>0.106</td>\n",
              "      <td>29.45221</td>\n",
              "      <td>305.4779</td>\n",
              "      <td>33.08508</td>\n",
              "      <td>2000.0000</td>\n",
              "      <td>18.79276</td>\n",
              "      <td>2500.00000</td>\n",
              "      <td>81.33005</td>\n",
              "    </tr>\n",
              "    <tr>\n",
              "      <th>2996</th>\n",
              "      <td>2997</td>\n",
              "      <td>0.106</td>\n",
              "      <td>43.62198</td>\n",
              "      <td>163.7802</td>\n",
              "      <td>73.32538</td>\n",
              "      <td>400.1193</td>\n",
              "      <td>59.03984</td>\n",
              "      <td>239.40240</td>\n",
              "      <td>175.98720</td>\n",
              "    </tr>\n",
              "    <tr>\n",
              "      <th>2997</th>\n",
              "      <td>2998</td>\n",
              "      <td>0.106</td>\n",
              "      <td>109.26510</td>\n",
              "      <td>0.0000</td>\n",
              "      <td>109.71406</td>\n",
              "      <td>0.0000</td>\n",
              "      <td>61.84817</td>\n",
              "      <td>197.27745</td>\n",
              "      <td>280.82733</td>\n",
              "    </tr>\n",
              "    <tr>\n",
              "      <th>2998</th>\n",
              "      <td>2999</td>\n",
              "      <td>0.106</td>\n",
              "      <td>98.40430</td>\n",
              "      <td>0.0000</td>\n",
              "      <td>212.82837</td>\n",
              "      <td>0.0000</td>\n",
              "      <td>168.72533</td>\n",
              "      <td>0.00000</td>\n",
              "      <td>479.95800</td>\n",
              "    </tr>\n",
              "    <tr>\n",
              "      <th>2999</th>\n",
              "      <td>3000</td>\n",
              "      <td>0.106</td>\n",
              "      <td>39.35189</td>\n",
              "      <td>206.4811</td>\n",
              "      <td>47.89822</td>\n",
              "      <td>2000.0000</td>\n",
              "      <td>25.19971</td>\n",
              "      <td>2500.00000</td>\n",
              "      <td>112.44982</td>\n",
              "    </tr>\n",
              "  </tbody>\n",
              "</table>\n",
              "<p>3000 rows × 9 columns</p>\n",
              "</div>\n",
              "      <button class=\"colab-df-convert\" onclick=\"convertToInteractive('df-fc4c954f-a4de-4a1f-b6bc-c08dca08e656')\"\n",
              "              title=\"Convert this dataframe to an interactive table.\"\n",
              "              style=\"display:none;\">\n",
              "        \n",
              "  <svg xmlns=\"http://www.w3.org/2000/svg\" height=\"24px\"viewBox=\"0 0 24 24\"\n",
              "       width=\"24px\">\n",
              "    <path d=\"M0 0h24v24H0V0z\" fill=\"none\"/>\n",
              "    <path d=\"M18.56 5.44l.94 2.06.94-2.06 2.06-.94-2.06-.94-.94-2.06-.94 2.06-2.06.94zm-11 1L8.5 8.5l.94-2.06 2.06-.94-2.06-.94L8.5 2.5l-.94 2.06-2.06.94zm10 10l.94 2.06.94-2.06 2.06-.94-2.06-.94-.94-2.06-.94 2.06-2.06.94z\"/><path d=\"M17.41 7.96l-1.37-1.37c-.4-.4-.92-.59-1.43-.59-.52 0-1.04.2-1.43.59L10.3 9.45l-7.72 7.72c-.78.78-.78 2.05 0 2.83L4 21.41c.39.39.9.59 1.41.59.51 0 1.02-.2 1.41-.59l7.78-7.78 2.81-2.81c.8-.78.8-2.07 0-2.86zM5.41 20L4 18.59l7.72-7.72 1.47 1.35L5.41 20z\"/>\n",
              "  </svg>\n",
              "      </button>\n",
              "      \n",
              "  <style>\n",
              "    .colab-df-container {\n",
              "      display:flex;\n",
              "      flex-wrap:wrap;\n",
              "      gap: 12px;\n",
              "    }\n",
              "\n",
              "    .colab-df-convert {\n",
              "      background-color: #E8F0FE;\n",
              "      border: none;\n",
              "      border-radius: 50%;\n",
              "      cursor: pointer;\n",
              "      display: none;\n",
              "      fill: #1967D2;\n",
              "      height: 32px;\n",
              "      padding: 0 0 0 0;\n",
              "      width: 32px;\n",
              "    }\n",
              "\n",
              "    .colab-df-convert:hover {\n",
              "      background-color: #E2EBFA;\n",
              "      box-shadow: 0px 1px 2px rgba(60, 64, 67, 0.3), 0px 1px 3px 1px rgba(60, 64, 67, 0.15);\n",
              "      fill: #174EA6;\n",
              "    }\n",
              "\n",
              "    [theme=dark] .colab-df-convert {\n",
              "      background-color: #3B4455;\n",
              "      fill: #D2E3FC;\n",
              "    }\n",
              "\n",
              "    [theme=dark] .colab-df-convert:hover {\n",
              "      background-color: #434B5C;\n",
              "      box-shadow: 0px 1px 3px 1px rgba(0, 0, 0, 0.15);\n",
              "      filter: drop-shadow(0px 1px 2px rgba(0, 0, 0, 0.3));\n",
              "      fill: #FFFFFF;\n",
              "    }\n",
              "  </style>\n",
              "\n",
              "      <script>\n",
              "        const buttonEl =\n",
              "          document.querySelector('#df-fc4c954f-a4de-4a1f-b6bc-c08dca08e656 button.colab-df-convert');\n",
              "        buttonEl.style.display =\n",
              "          google.colab.kernel.accessAllowed ? 'block' : 'none';\n",
              "\n",
              "        async function convertToInteractive(key) {\n",
              "          const element = document.querySelector('#df-fc4c954f-a4de-4a1f-b6bc-c08dca08e656');\n",
              "          const dataTable =\n",
              "            await google.colab.kernel.invokeFunction('convertToInteractive',\n",
              "                                                     [key], {});\n",
              "          if (!dataTable) return;\n",
              "\n",
              "          const docLinkHtml = 'Like what you see? Visit the ' +\n",
              "            '<a target=\"_blank\" href=https://colab.research.google.com/notebooks/data_table.ipynb>data table notebook</a>'\n",
              "            + ' to learn more about interactive tables.';\n",
              "          element.innerHTML = '';\n",
              "          dataTable['output_type'] = 'display_data';\n",
              "          await google.colab.output.renderOutput(dataTable, element);\n",
              "          const docLink = document.createElement('div');\n",
              "          docLink.innerHTML = docLinkHtml;\n",
              "          element.appendChild(docLink);\n",
              "        }\n",
              "      </script>\n",
              "    </div>\n",
              "  </div>\n",
              "  "
            ]
          },
          "metadata": {},
          "execution_count": 855
        }
      ]
    },
    {
      "cell_type": "code",
      "source": [
        "r = 0.24\n",
        "pv = calculate_present_value(t, num_simulations, r)"
      ],
      "metadata": {
        "id": "L7VOHMg9j9Xa"
      },
      "execution_count": 856,
      "outputs": []
    },
    {
      "cell_type": "code",
      "source": [
        "pv['Present Value'].mean()"
      ],
      "metadata": {
        "id": "dfO_Pe1S1d2K",
        "colab": {
          "base_uri": "https://localhost:8080/"
        },
        "outputId": "cbb69119-9324-4ffc-9e16-44f006d2779d"
      },
      "execution_count": 857,
      "outputs": [
        {
          "output_type": "execute_result",
          "data": {
            "text/plain": [
              "153.8180331301842"
            ]
          },
          "metadata": {},
          "execution_count": 857
        }
      ]
    },
    {
      "cell_type": "code",
      "source": [
        "# averages['Payout Phase 1'][0]"
      ],
      "metadata": {
        "id": "0zlEBZzOvGQZ"
      },
      "execution_count": 837,
      "outputs": []
    },
    {
      "cell_type": "code",
      "source": [],
      "metadata": {
        "id": "4B_UkN9ulhEz"
      },
      "execution_count": 837,
      "outputs": []
    }
  ]
}